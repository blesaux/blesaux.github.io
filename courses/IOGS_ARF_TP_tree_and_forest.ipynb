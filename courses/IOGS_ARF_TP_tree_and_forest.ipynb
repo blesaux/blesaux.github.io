{
  "nbformat": 4,
  "nbformat_minor": 0,
  "metadata": {
    "colab": {
      "name": "IOGS_ARF_TP_tree_and_forest.ipynb",
      "version": "0.3.2",
      "provenance": [],
      "collapsed_sections": [],
      "toc_visible": true
    },
    "kernelspec": {
      "name": "python3",
      "display_name": "Python 3"
    }
  },
  "cells": [
    {
      "metadata": {
        "id": "MtLNcS2XBAAH",
        "colab_type": "code",
        "colab": {}
      },
      "cell_type": "code",
      "source": [
        "%matplotlib inline\n",
        "from pylab import *"
      ],
      "execution_count": 0,
      "outputs": []
    },
    {
      "metadata": {
        "id": "jaY-SQXL22q1",
        "colab_type": "text"
      },
      "cell_type": "markdown",
      "source": [
        "\n",
        "\n",
        "---\n",
        "# Get the data\n",
        "\n",
        "* Load the Olivetti Face dataset\n",
        "* Import the smile/no smile reference data"
      ]
    },
    {
      "metadata": {
        "id": "lLOvv5EgBIUr",
        "colab_type": "code",
        "colab": {}
      },
      "cell_type": "code",
      "source": [
        "from sklearn import datasets\n",
        "faces = datasets.fetch_olivetti_faces()\n",
        "faces.keys()"
      ],
      "execution_count": 0,
      "outputs": []
    },
    {
      "metadata": {
        "id": "QG3NGht7BSNY",
        "colab_type": "code",
        "colab": {}
      },
      "cell_type": "code",
      "source": [
        "# Display some images\n",
        "for i in range(10):\n",
        "    face = faces.images[i]\n",
        "    subplot(1, 10, i + 1)\n",
        "    imshow(face.reshape((64, 64)), cmap='gray')\n",
        "    axis('off')"
      ],
      "execution_count": 0,
      "outputs": []
    },
    {
      "metadata": {
        "id": "ptLGTSoBCQNz",
        "colab_type": "code",
        "colab": {}
      },
      "cell_type": "code",
      "source": [
        "# Download results-smile-GT-BLS.xml from https://blesaux.github.io/teaching/IOGS-machine-learning\n",
        "# Then load results-smile-GT-BLS.xml from computer in the \"/content/\" directory\n",
        "import json\n",
        "from google.colab import files\n",
        "uploaded = files.upload()\n",
        "\n",
        "for fn in uploaded.keys():\n",
        "  print('User uploaded file \"{name}\" with length {length} bytes'.format(name=fn, length=len(uploaded[fn])))\n"
      ],
      "execution_count": 0,
      "outputs": []
    },
    {
      "metadata": {
        "id": "wT3RBiGUpoSl",
        "colab_type": "code",
        "colab": {}
      },
      "cell_type": "code",
      "source": [
        "# Open reference data\n",
        "results = json.load(open('/content/results-smile-GT-BLS.xml'))\n",
        "\n",
        "y = list(results.values())\n",
        "print(y)\n",
        "yy = [int(yy==True) for yy in y]\n",
        "print(yy)"
      ],
      "execution_count": 0,
      "outputs": []
    },
    {
      "metadata": {
        "id": "LHE_Ypi7qzPV",
        "colab_type": "code",
        "colab": {}
      },
      "cell_type": "code",
      "source": [
        "# Analyze reference data\n",
        "yes, no = (sum([results[x] == True for x in results]), \n",
        "            sum([results[x] == False for x in results]))\n",
        "bar([0, 1], [no, yes])\n",
        "ylim(0, max(yes, no))\n",
        "xticks([0.4, 1.4], ['no smile', 'smile']);"
      ],
      "execution_count": 0,
      "outputs": []
    },
    {
      "metadata": {
        "id": "RjJzLHD1qpIN",
        "colab_type": "code",
        "colab": {}
      },
      "cell_type": "code",
      "source": [
        "smiling_indices = [int(i) for i in results if results[i] == True]"
      ],
      "execution_count": 0,
      "outputs": []
    },
    {
      "metadata": {
        "id": "W7V8KBytrtLk",
        "colab_type": "code",
        "colab": {}
      },
      "cell_type": "code",
      "source": [
        "fig = plt.figure(figsize=(12, 12))\n",
        "fig.subplots_adjust(left=0, right=1, bottom=0, top=1, hspace=0.05, wspace=0.05)\n",
        "for i in range(len(smiling_indices)):\n",
        "    # plot the images in a matrix of 20x20\n",
        "    p = fig.add_subplot(20, 20, i + 1)\n",
        "    p.imshow(faces.images[smiling_indices[i]], cmap=plt.cm.bone)\n",
        "    \n",
        "    # label the image with the target value\n",
        "    p.text(0, 14, \"smiling\")\n",
        "    p.text(0, 60, str(i))\n",
        "    p.axis('off')"
      ],
      "execution_count": 0,
      "outputs": []
    },
    {
      "metadata": {
        "id": "hmc24nuj2KLK",
        "colab_type": "text"
      },
      "cell_type": "markdown",
      "source": [
        "\n",
        "\n",
        "---\n",
        "\n",
        "# Feature extraction\n",
        "\n",
        "* Compute Histogram of Gradients (HoGs) features on **all images**\n",
        "* Understand what HoGs are"
      ]
    },
    {
      "metadata": {
        "id": "yIraZ3XV3bZP",
        "colab_type": "code",
        "colab": {}
      },
      "cell_type": "code",
      "source": [
        "from __future__ import division, print_function\n",
        "from time import time\n",
        "\n",
        "import numpy as np\n",
        "import matplotlib.pyplot as plt\n",
        "\n",
        "from skimage import feature\n",
        "\n",
        "# Compute HoG features\n",
        "hog_vec = []\n",
        "hog_vis = []\n",
        "for i in range(len(faces.images)):\n",
        "  image = faces.images[i]\n",
        "  hvec, hvis = feature.hog(image, visualise=True)\n",
        "  hog_vec.append(hvec)\n",
        "  hog_vis.append(hvis)\n",
        "\n",
        "print('Number of features of size... ',np.array(hog_vec).shape)"
      ],
      "execution_count": 0,
      "outputs": []
    },
    {
      "metadata": {
        "id": "uDcoJttT6F4h",
        "colab_type": "code",
        "colab": {}
      },
      "cell_type": "code",
      "source": [
        "# Understand HOG features\n",
        "from random import randint\n",
        "ii = randint(0, len(faces.images))\n",
        "print(len(faces.images), ii)\n",
        "\n",
        "fig, ax = plt.subplots(1, 2, figsize=(12, 6),\n",
        "                       subplot_kw=dict(xticks=[], yticks=[]))\n",
        "ax[0].imshow( faces.images[ii], cmap='gray')\n",
        "ax[0].set_title('input image')\n",
        "\n",
        "ax[1].imshow(hog_vis[ii])\n",
        "ax[1].set_title('visualization of HOG features');"
      ],
      "execution_count": 0,
      "outputs": []
    },
    {
      "metadata": {
        "id": "xqXjX3dv0Sb4",
        "colab_type": "code",
        "colab": {}
      },
      "cell_type": "code",
      "source": [
        "print(hog_vec[ii])\n",
        "print(hog_vec[ii].shape)\n",
        "print( np.max(hog_vec) )\n",
        "print( np.min(hog_vec) )"
      ],
      "execution_count": 0,
      "outputs": []
    },
    {
      "metadata": {
        "id": "Xw7mJ1vUOoKU",
        "colab_type": "text"
      },
      "cell_type": "markdown",
      "source": [
        "\n",
        "\n",
        "---\n",
        "\n",
        "# Prepare train and test data\n",
        "\n",
        "* Split data in training / test set\n",
        "\n",
        "Info: https://scikit-learn.org/stable/model_selection.html"
      ]
    },
    {
      "metadata": {
        "id": "NgsXQ88yOndc",
        "colab_type": "code",
        "colab": {}
      },
      "cell_type": "code",
      "source": [
        "from sklearn.model_selection import train_test_split\n",
        "\n",
        "\n",
        "hog_train, hog_test, yy_train, yy_test = ...\n"
      ],
      "execution_count": 0,
      "outputs": []
    },
    {
      "metadata": {
        "id": "SHMG1d1G11fa",
        "colab_type": "text"
      },
      "cell_type": "markdown",
      "source": [
        "\n",
        "\n",
        "---\n",
        "# Trees\n",
        "\n",
        "\n",
        "* Built a tree classifier on HOG Features.\n",
        "* Visualize the decision tree\n",
        "* Info: https://scikit-learn.org/stable/modules/tree.html\n",
        "* Evaluate the trained model\n",
        "* Info: https://scikit-learn.org/stable/modules/model_evaluation.html"
      ]
    },
    {
      "metadata": {
        "id": "VOQjKIIs10Nl",
        "colab_type": "code",
        "colab": {}
      },
      "cell_type": "code",
      "source": [
        "# Train decision tree\n",
        "from sklearn import tree\n",
        "\n",
        "clf = ..."
      ],
      "execution_count": 0,
      "outputs": []
    },
    {
      "metadata": {
        "id": "4IZr-ThJHYhu",
        "colab_type": "code",
        "colab": {}
      },
      "cell_type": "code",
      "source": [
        "# Visualize the decision tree"
      ],
      "execution_count": 0,
      "outputs": []
    },
    {
      "metadata": {
        "id": "OW4wO9NIehmd",
        "colab_type": "code",
        "colab": {}
      },
      "cell_type": "code",
      "source": [
        "# Test the model on a single image\n",
        "from random import randrange\n",
        "rnd_test = random_index = randrange(len(yy_test))\n",
        "\n",
        "\n"
      ],
      "execution_count": 0,
      "outputs": []
    },
    {
      "metadata": {
        "id": "4BVabZJ4SccT",
        "colab_type": "code",
        "colab": {}
      },
      "cell_type": "code",
      "source": [
        "# Compute predictions for all test, and estimate performance statistics\n"
      ],
      "execution_count": 0,
      "outputs": []
    },
    {
      "metadata": {
        "id": "l1isqZZRVK0K",
        "colab_type": "text"
      },
      "cell_type": "markdown",
      "source": [
        "\n",
        "\n",
        "---\n",
        "\n",
        "# Random Forest: a bagging example\n",
        "\n",
        "In this part, the objective it to build a **custom random forest**.\n",
        "\n",
        "**After the course**, check built-in scikit-learn random forests: https://scikit-learn.org/stable/modules/ensemble.html\n",
        "\n",
        "* Train various trees on subsets of the training set\n",
        "* Use a voting procedure to aggregate the individual predictions on the \n",
        "* Evaluate:\n",
        "  * Evaluate the custom forest;\n",
        "  * Compare with previous decision tree;\n",
        "  * Compare with individual trees of the forest.\n",
        "\n",
        "Numpy tips: [np.arange](https://docs.scipy.org/doc/numpy-1.15.0/reference/generated/numpy.arange.html), [numpy.sum](https://docs.scipy.org/doc/numpy-1.15.0/reference/generated/numpy.sum.html), [numpy.mean](https://docs.scipy.org/doc/numpy-1.15.1/reference/generated/numpy.mean.html), [numpy.where](https://docs.scipy.org/doc/numpy-1.15.0/reference/generated/numpy.where.html)"
      ]
    },
    {
      "metadata": {
        "id": "X5G8KJ40VYAA",
        "colab_type": "code",
        "colab": {}
      },
      "cell_type": "code",
      "source": [
        "# The training data are: hog_train, yy_train\n",
        "# The test data are: hog_test, yy_test\n",
        "# First prepare several subsets\n",
        "# Second train decision trees on each subset\n",
        "\n",
        "nb_trees = ...\n",
        "forest = []"
      ],
      "execution_count": 0,
      "outputs": []
    },
    {
      "metadata": {
        "id": "eqvhVMcR7yJ2",
        "colab_type": "code",
        "colab": {}
      },
      "cell_type": "code",
      "source": [
        "# Get predictions on the test dataset\n",
        "\n",
        "print(len(forest))\n",
        "\n"
      ],
      "execution_count": 0,
      "outputs": []
    },
    {
      "metadata": {
        "id": "LKdmwmVY4tfD",
        "colab_type": "code",
        "colab": {}
      },
      "cell_type": "code",
      "source": [
        "# Vote\n"
      ],
      "execution_count": 0,
      "outputs": []
    }
  ]
}