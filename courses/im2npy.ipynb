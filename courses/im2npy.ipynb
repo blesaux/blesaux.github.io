{
 "cells": [
  {
   "cell_type": "markdown",
   "metadata": {},
   "source": [
    "# IOGS - ARDF Projects - Dehazing\n",
    "\n",
    "This file is a helper for browsing the dehazing data and saving it in numpy arrays\n",
    "\n",
    "### Imports"
   ]
  },
  {
   "cell_type": "code",
   "execution_count": null,
   "metadata": {
    "collapsed": true
   },
   "outputs": [],
   "source": [
    "import numpy as np\n",
    "import os\n",
    "\n",
    "from matplotlib.pyplot import imshow\n",
    "from PIL import Image\n",
    "%matplotlib inline"
   ]
  },
  {
   "cell_type": "markdown",
   "metadata": {},
   "source": [
    "### Get original data\n",
    "\n",
    "Information on the NTIRE dehazing competition can be found:\n",
    "* [on the NTIRE workshop website](http://www.vision.ee.ethz.ch/ntire20/)\n",
    "* [on the codalab page](https://competitions.codalab.org/competitions/22236)\n",
    "\n",
    "Registration is required to access the images. This script save the images in numpy array. Another script contains the dataloader, to load the numpy arrays and prepare them to train learning algorithms."
   ]
  },
  {
   "cell_type": "code",
   "execution_count": null,
   "metadata": {},
   "outputs": [],
   "source": [
    "folder = \"./data/dehazing/NN-HAZE_train/GT\"\n",
    "\n",
    "onlyfiles = [f for f in os.listdir(folder) if os.path.isfile(os.path.join(folder, f))]\n",
    "\n",
    "print(\"Working with {0} images\".format(len(onlyfiles)))\n",
    "print(\"Image examples: \")\n",
    "\n",
    "train_gt = []\n",
    "for i in range(len(onlyfiles)):\n",
    "#for i in range(40, 42):\n",
    "    print(onlyfiles[i])\n",
    "    pil_im = Image.open(folder + \"/\" + onlyfiles[i], 'r')\n",
    "    #imshow(np.asarray(pil_im))\n",
    "    #display(Image(filename=folder + \"/\" + onlyfiles[i], width=240, height=320))\n",
    "    #pil_im.show() # open image outside of the notebook\n",
    "    #print(pil_im.size)\n",
    "    #width, height = pil_im.size\n",
    "    \n",
    "    np_im = np.array(pil_im)\n",
    "    #np_im = np_im.reshape((3, width, height))\n",
    "    train_gt.append(np_im)\n",
    "    #print(np.size(np_im))\n",
    "\n",
    "train_gt = np.array(train_gt)    \n",
    "print(train_gt.size)\n",
    "\n",
    "print('Saving train ground-truth data')\n",
    "np.save('./data/dehazing/train_gt.npy', train_gt)"
   ]
  },
  {
   "cell_type": "code",
   "execution_count": null,
   "metadata": {},
   "outputs": [],
   "source": [
    "folder = \"./data/dehazing/NN-HAZE_train/HAZY\"\n",
    "\n",
    "onlyfiles = [f for f in os.listdir(folder) if os.path.isfile(os.path.join(folder, f))]\n",
    "\n",
    "print(\"Working with {0} images\".format(len(onlyfiles)))\n",
    "print(\"Image examples: \")\n",
    "\n",
    "train_hazy = []\n",
    "for i in range(len(onlyfiles)):\n",
    "#for i in range(40, 42):\n",
    "    print(onlyfiles[i])\n",
    "    pil_im = Image.open(folder + \"/\" + onlyfiles[i], 'r')\n",
    "    #pil_im.show() # open image outside of the notebook\n",
    "    #print(pil_im.size)\n",
    "    \n",
    "    np_im = np.array(pil_im)\n",
    "    train_hazy.append(np_im)\n",
    "\n",
    "train_hazy = np.array(train_hazy)    \n",
    "print(train_hazy.size)\n",
    "\n",
    "print('Saving train hazy data')\n",
    "np.save('./data/dehazing/train_data.npy', train_hazy)"
   ]
  },
  {
   "cell_type": "code",
   "execution_count": null,
   "metadata": {},
   "outputs": [],
   "source": [
    "folder = \"./data/dehazing/NN-HAZE_val/HAZY\"\n",
    "\n",
    "onlyfiles = [f for f in os.listdir(folder) if os.path.isfile(os.path.join(folder, f))]\n",
    "\n",
    "print(\"Working with {0} images\".format(len(onlyfiles)))\n",
    "print(\"Image examples: \")\n",
    "\n",
    "val_hazy = []\n",
    "for i in range(len(onlyfiles)):\n",
    "#for i in range(40, 42):\n",
    "    print(onlyfiles[i])\n",
    "    pil_im = Image.open(folder + \"/\" + onlyfiles[i], 'r')\n",
    "    #pil_im.show() # open image outside of the notebook\n",
    "    print(pil_im.size)\n",
    "    \n",
    "    np_im = np.array(pil_im)\n",
    "    val_hazy.append(np_im)\n",
    "\n",
    "val_hazy = np.array(val_hazy)    \n",
    "print(val_hazy.size)\n",
    "\n",
    "print('Saving validation hazy data')\n",
    "np.save('./data/dehazing/val_data.npy', val_hazy)"
   ]
  },
  {
   "cell_type": "code",
   "execution_count": null,
   "metadata": {
    "collapsed": true
   },
   "outputs": [],
   "source": []
  }
 ],
 "metadata": {
  "kernelspec": {
   "display_name": "Python 3",
   "language": "python",
   "name": "python3"
  },
  "language_info": {
   "codemirror_mode": {
    "name": "ipython",
    "version": 3
   },
   "file_extension": ".py",
   "mimetype": "text/x-python",
   "name": "python",
   "nbconvert_exporter": "python",
   "pygments_lexer": "ipython3",
   "version": "3.6.3"
  }
 },
 "nbformat": 4,
 "nbformat_minor": 2
}
