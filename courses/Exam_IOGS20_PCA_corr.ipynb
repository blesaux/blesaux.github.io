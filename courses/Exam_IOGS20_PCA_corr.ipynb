{
 "cells": [
  {
   "cell_type": "code",
   "execution_count": 1,
   "metadata": {},
   "outputs": [
    {
     "name": "stdout",
     "output_type": "stream",
     "text": [
      "Populating the interactive namespace from numpy and matplotlib\n"
     ]
    }
   ],
   "source": [
    "# This line configures matplotlib to show figures embedded in the notebook, \n",
    "# instead of poping up a new window. More about that later. \n",
    "%pylab inline\n",
    "\n",
    "import matplotlib.pyplot as plt"
   ]
  },
  {
   "cell_type": "markdown",
   "metadata": {},
   "source": [
    "## Initialize points\n",
    "\n",
    "Create 7 points in 2D\n",
    "Plot points"
   ]
  },
  {
   "cell_type": "code",
   "execution_count": 2,
   "metadata": {},
   "outputs": [
    {
     "data": {
      "text/plain": [
       "Text(0.5, 1.0, '7 points in 2D')"
      ]
     },
     "execution_count": 2,
     "metadata": {},
     "output_type": "execute_result"
    },
    {
     "data": {
      "image/png": "[encoded data removed]",
      "text/plain": [
       "<Figure size 432x288 with 1 Axes>"
      ]
     },
     "metadata": {
      "needs_background": "light"
     },
     "output_type": "display_data"
    }
   ],
   "source": [
    "x = [2,3,3,3,3,6,8]\n",
    "y = [3,2,3,6,8,3,3]\n",
    "\n",
    "\n",
    "plt.scatter(x, y, s=100)\n",
    "plt.axis([0, 10, 0, 10])\n",
    "plt.xticks(np.arange(0, 11, 1.0))\n",
    "plt.yticks(np.arange(0, 11, 1.0))\n",
    "plt.title('7 points in 2D', fontsize=10)"
   ]
  },
  {
   "cell_type": "markdown",
   "metadata": {},
   "source": [
    "## Center data\n",
    "\n",
    "Center data by removing the mean of all 7 samples\n",
    "Plot points in new reference axis"
   ]
  },
  {
   "cell_type": "code",
   "execution_count": 3,
   "metadata": {},
   "outputs": [
    {
     "name": "stdout",
     "output_type": "stream",
     "text": [
      "[-2. -1. -1. -1. -1.  2.  4.]\n",
      "[-1. -2. -1.  2.  4. -1. -1.]\n"
     ]
    },
    {
     "data": {
      "text/plain": [
       "Text(0.5, 1.0, '2D points')"
      ]
     },
     "execution_count": 3,
     "metadata": {},
     "output_type": "execute_result"
    },
    {
     "data": {
      "image/png": "[encoded data removed]",
      "text/plain": [
       "<Figure size 432x288 with 1 Axes>"
      ]
     },
     "metadata": {
      "needs_background": "light"
     },
     "output_type": "display_data"
    }
   ],
   "source": [
    "import numpy as np\n",
    "\n",
    "x0 = x - np.mean(x)\n",
    "y0 = y - np.mean(y)\n",
    "\n",
    "print(x0)\n",
    "print(y0)\n",
    "\n",
    "plt.scatter(x0, y0, s=100)\n",
    "plt.axis([-5, 5, -5, 5])\n",
    "plt.xticks(np.arange(-5, 6, 1.0))\n",
    "plt.yticks(np.arange(-5, 6, 1.0))\n",
    "plt.title('2D points', fontsize=10)"
   ]
  },
  {
   "cell_type": "markdown",
   "metadata": {},
   "source": [
    "## Covariance matrix\n",
    "\n",
    "Compute the 2*2 covariance matrix by computing variance / covariances over all 7 sammples"
   ]
  },
  {
   "cell_type": "code",
   "execution_count": 4,
   "metadata": {},
   "outputs": [
    {
     "name": "stdout",
     "output_type": "stream",
     "text": [
      "[[-2. -1. -1. -1. -1.  2.  4.]\n",
      " [-1. -2. -1.  2.  4. -1. -1.]]\n",
      "[[14.  -3.5]\n",
      " [-3.5 14. ]]\n"
     ]
    }
   ],
   "source": [
    "#samples = [x0,y0]\n",
    "glo = np.array(x0)\n",
    "up = np.array(y0)\n",
    "samples = np.column_stack( (glo,up) ).T\n",
    "print(samples)\n",
    "\n",
    "cov = np.dot( samples, samples.T ) / (len(glo)-1)\n",
    "print(3*cov)\n",
    "\n",
    "# (24/7-X)² - Pi²\n",
    "\n",
    "# [1,1] et [1,-1] assez évidemment\n",
    "\n",
    "# (24+7*PI)/24"
   ]
  },
  {
   "cell_type": "markdown",
   "metadata": {},
   "source": [
    "## Eigen-vectors and values\n",
    "\n",
    "Compute the transform matrix for diagonalizing the covariance matrix, and the corresponding eigen values"
   ]
  },
  {
   "cell_type": "code",
   "execution_count": 5,
   "metadata": {},
   "outputs": [
    {
     "name": "stdout",
     "output_type": "stream",
     "text": [
      "[[ 0.70710678  0.70710678]\n",
      " [-0.70710678  0.70710678]]\n",
      "[5.83333333 3.5       ]\n"
     ]
    }
   ],
   "source": [
    "from numpy import linalg as LA\n",
    "\n",
    "w, v = LA.eig(cov)\n",
    "print(v)\n",
    "print(w)"
   ]
  }
 ],
 "metadata": {
  "kernelspec": {
   "display_name": "Python 3",
   "language": "python",
   "name": "python3"
  },
  "language_info": {
   "codemirror_mode": {
    "name": "ipython",
    "version": 3
   },
   "file_extension": ".py",
   "mimetype": "text/x-python",
   "name": "python",
   "nbconvert_exporter": "python",
   "pygments_lexer": "ipython3",
   "version": "3.7.4"
  }
 },
 "nbformat": 4,
 "nbformat_minor": 2
}
