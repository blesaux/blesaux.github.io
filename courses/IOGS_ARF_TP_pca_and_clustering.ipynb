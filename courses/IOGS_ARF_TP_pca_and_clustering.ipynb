{
  "nbformat": 4,
  "nbformat_minor": 0,
  "metadata": {
    "colab": {
      "name": "IOGS_ARF_TP_pca_and-clustering.ipynb",
      "version": "0.3.2",
      "provenance": [],
      "collapsed_sections": [],
      "toc_visible": true
    },
    "kernelspec": {
      "name": "python3",
      "display_name": "Python 3"
    }
  },
  "cells": [
    {
      "metadata": {
        "id": "MtLNcS2XBAAH",
        "colab_type": "code",
        "colab": {}
      },
      "cell_type": "code",
      "source": [
        "%matplotlib inline\n",
        "from pylab import *"
      ],
      "execution_count": 0,
      "outputs": []
    },
    {
      "metadata": {
        "id": "8tzxnHKlDPX7",
        "colab_type": "text"
      },
      "cell_type": "markdown",
      "source": [
        "# Principal Component Analysis"
      ]
    },
    {
      "metadata": {
        "id": "jaY-SQXL22q1",
        "colab_type": "text"
      },
      "cell_type": "markdown",
      "source": [
        "\n",
        "\n",
        "---\n",
        "## Get the data\n",
        "\n",
        "* Load the Olivetti Face dataset\n",
        "* Import the smile/no smile reference data"
      ]
    },
    {
      "metadata": {
        "id": "lLOvv5EgBIUr",
        "colab_type": "code",
        "colab": {}
      },
      "cell_type": "code",
      "source": [
        "from sklearn import datasets\n",
        "faces = datasets.fetch_olivetti_faces()\n",
        "faces.keys()"
      ],
      "execution_count": 0,
      "outputs": []
    },
    {
      "metadata": {
        "id": "QG3NGht7BSNY",
        "colab_type": "code",
        "colab": {}
      },
      "cell_type": "code",
      "source": [
        "# Display some images\n",
        "for i in range(10):\n",
        "    face = faces.images[i]\n",
        "    subplot(1, 10, i + 1)\n",
        "    imshow(face.reshape((64, 64)), cmap='gray')\n",
        "    axis('off')\n",
        "    \n",
        "print(faces.target)"
      ],
      "execution_count": 0,
      "outputs": []
    },
    {
      "metadata": {
        "id": "hmc24nuj2KLK",
        "colab_type": "text"
      },
      "cell_type": "markdown",
      "source": [
        "\n",
        "\n",
        "---\n",
        "\n",
        "## Feature extraction\n",
        "\n",
        "* Compute Histogram of Gradients (HoGs) features on **all images**\n",
        "* Understand what HoGs are"
      ]
    },
    {
      "metadata": {
        "id": "yIraZ3XV3bZP",
        "colab_type": "code",
        "colab": {}
      },
      "cell_type": "code",
      "source": [
        "from __future__ import division, print_function\n",
        "from time import time\n",
        "\n",
        "import numpy as np\n",
        "import matplotlib.pyplot as plt\n",
        "\n",
        "from skimage import feature\n",
        "\n",
        "# Compute HoG features\n",
        "hog_vec = []\n",
        "hog_vis = []\n",
        "for i in range(len(faces.images)):\n",
        "  image = faces.images[i]\n",
        "  hvec, hvis = feature.hog(image, visualise=True)\n",
        "  hog_vec.append(hvec)\n",
        "  hog_vis.append(hvis)\n",
        "\n",
        "print('Number of features of size... ',np.array(hog_vec).shape)"
      ],
      "execution_count": 0,
      "outputs": []
    },
    {
      "metadata": {
        "id": "uDcoJttT6F4h",
        "colab_type": "code",
        "colab": {}
      },
      "cell_type": "code",
      "source": [
        "# Understand HOG features\n",
        "from random import randint\n",
        "ii = randint(0, len(faces.images))\n",
        "print(len(faces.images), ii)\n",
        "\n",
        "fig, ax = plt.subplots(1, 2, figsize=(12, 6),\n",
        "                       subplot_kw=dict(xticks=[], yticks=[]))\n",
        "ax[0].imshow( faces.images[ii], cmap='gray')\n",
        "ax[0].set_title('input image')\n",
        "\n",
        "ax[1].imshow(hog_vis[ii])\n",
        "ax[1].set_title('visualization of HOG features');"
      ],
      "execution_count": 0,
      "outputs": []
    },
    {
      "metadata": {
        "id": "xqXjX3dv0Sb4",
        "colab_type": "code",
        "colab": {}
      },
      "cell_type": "code",
      "source": [
        "print(hog_vec[ii])\n",
        "print(hog_vec[ii].shape)\n",
        "print( np.max(hog_vec) )\n",
        "print( np.min(hog_vec) )"
      ],
      "execution_count": 0,
      "outputs": []
    },
    {
      "metadata": {
        "id": "oDciuLSX9sVA",
        "colab_type": "text"
      },
      "cell_type": "markdown",
      "source": [
        "\n",
        "\n",
        "---\n",
        "\n",
        "## Principal Component Analysis\n",
        "\n",
        "HoGs on faces= many dimensions!\n",
        "\n",
        "* Compute an ACP of the HOG features\n",
        "\n",
        "Info: [sklearn PCA](https://scikit-learn.org/stable/modules/generated/sklearn.decomposition.PCA.html)\n",
        "\n",
        "* Display 2 random dimensions of the original features\n",
        "* Display the dataset along its 2 first principal components\n",
        "* Perform 2 previous displays with the person class as a color.\n",
        "\n",
        "Info: [matplotlib.plot](https://matplotlib.org/api/_as_gen/matplotlib.pyplot.plot.html),  [matplotlib.scatter](https://matplotlib.org/api/_as_gen/matplotlib.pyplot.scatter.html)"
      ]
    },
    {
      "metadata": {
        "id": "UarSWX359rdi",
        "colab_type": "code",
        "colab": {}
      },
      "cell_type": "code",
      "source": [
        "# PCA from sci-kit learn\n"
      ],
      "execution_count": 0,
      "outputs": []
    },
    {
      "metadata": {
        "id": "z58jxZZAoJXI",
        "colab_type": "code",
        "colab": {}
      },
      "cell_type": "code",
      "source": [
        "# Display 2 dimensions picked at random\n"
      ],
      "execution_count": 0,
      "outputs": []
    },
    {
      "metadata": {
        "id": "nTqjl4icoL_U",
        "colab_type": "code",
        "colab": {}
      },
      "cell_type": "code",
      "source": [
        "# Display 2 first principal components after PCA transform\n"
      ],
      "execution_count": 0,
      "outputs": []
    },
    {
      "metadata": {
        "id": "DGnqRdIvGSoB",
        "colab_type": "text"
      },
      "cell_type": "markdown",
      "source": [
        "Next cell is useful with  [matplotlib.scatter](https://matplotlib.org/api/_as_gen/matplotlib.pyplot.scatter.html)"
      ]
    },
    {
      "metadata": {
        "id": "_e_2Qxm3mT6V",
        "colab_type": "code",
        "colab": {}
      },
      "cell_type": "code",
      "source": [
        "# define the colormap\n",
        "cmap = plt.cm.jet\n",
        "# extract all colors from the .jet map\n",
        "cmaplist = [cmap(i) for i in range(cmap.N)]\n",
        "# create the new map\n",
        "cmap = cmap.from_list('Custom cmap', cmaplist, cmap.N)\n"
      ],
      "execution_count": 0,
      "outputs": []
    },
    {
      "metadata": {
        "id": "wRaqdue7iwBg",
        "colab_type": "code",
        "colab": {}
      },
      "cell_type": "code",
      "source": [
        "# Display 2 dimensions picked at random with a color per person\n"
      ],
      "execution_count": 0,
      "outputs": []
    },
    {
      "metadata": {
        "id": "gSUN49PpjARN",
        "colab_type": "code",
        "colab": {}
      },
      "cell_type": "code",
      "source": [
        "# Display 2 first principal components after PCA transform with a color per person\n"
      ],
      "execution_count": 0,
      "outputs": []
    },
    {
      "metadata": {
        "id": "XvITbLN1zDX7",
        "colab_type": "text"
      },
      "cell_type": "markdown",
      "source": [
        "\n",
        "\n",
        "---\n",
        "\n",
        "# Clustering: image segmentation with k-means\n",
        "\n",
        "Images = many pixels!\n",
        "\n",
        "* Load an image and convert it a numpy array (3xNxM)\n",
        "* Code a k-means algorihm on the pixel colors\n",
        "* Find color prototypes\n",
        "* Back-project color prototypes instead of original colors into the image"
      ]
    },
    {
      "metadata": {
        "id": "tAuKc9UdT3GY",
        "colab_type": "code",
        "colab": {}
      },
      "cell_type": "code",
      "source": [
        "%matplotlib inline\n",
        "from pylab import *\n",
        "import matplotlib.pyplot as plt"
      ],
      "execution_count": 0,
      "outputs": []
    },
    {
      "metadata": {
        "id": "n-eyz1lnME9o",
        "colab_type": "code",
        "colab": {}
      },
      "cell_type": "code",
      "source": [
        "# Load an image\n",
        "import numpy as np\n",
        "from sklearn.datasets import load_sample_image\n",
        "from skimage.transform import resize\n",
        "\n",
        "china = load_sample_image(\"china.jpg\")\n",
        "\n",
        "# Convert to floats, in [0-1]\n",
        "china = np.array(china, dtype=np.float64) / 255\n",
        "print(china.shape)\n",
        "\n",
        "# Subsample\n",
        "china = resize(china, (200, 300))\n",
        "\n",
        "#china = china[140:240,50:210,:]\n",
        "\n",
        "# Display image\n",
        "plt.figure(1)\n",
        "plt.clf()\n",
        "plt.axis('off')\n",
        "plt.title('Original image (96,615 colors)')\n",
        "plt.imshow(china)\n",
        "plt.show()\n",
        "\n",
        "w, h, d = original_shape = tuple(china.shape)\n",
        "print(w, h, d)"
      ],
      "execution_count": 0,
      "outputs": []
    },
    {
      "metadata": {
        "id": "tdkWbKGVJ9Vu",
        "colab_type": "text"
      },
      "cell_type": "markdown",
      "source": [
        "Create variable objects for the k-means: samples, memberships, prototypes, etc.\n",
        "\n",
        "Initialisation of prototypes: https://en.wikipedia.org/wiki/K-means_clustering\n",
        "\n",
        "Info:[random.randrange](https://docs.python.org/3/library/random.html)"
      ]
    },
    {
      "metadata": {
        "id": "gNFvPPf4RJTn",
        "colab_type": "code",
        "colab": {}
      },
      "cell_type": "code",
      "source": [
        "# nb clusters\n",
        "N = 16\n",
        "\n",
        "# data samples = pixels\n",
        "china_pixels = np.reshape(china, (w*h,d))\n",
        "\n",
        "\n",
        "# memberships\n",
        "u = ...\n",
        "\n",
        "# prototypes: initialized as true, random pixels (try otherwise) \n",
        "p = ...\n"
      ],
      "execution_count": 0,
      "outputs": []
    },
    {
      "metadata": {
        "id": "bqTEIRn1KZat",
        "colab_type": "text"
      },
      "cell_type": "markdown",
      "source": [
        "Code the k-means: loop to estimate alternatively \n",
        "* memberships of points to clusters (based on distance to prototypes), and \n",
        "* prototypes (weighted average of points belonging to a cluster)\n",
        "\n",
        "Compute loss (objective function) at each iteration\n",
        "\n",
        "Info: [linalg.norm](https://docs.scipy.org/doc/numpy-1.15.0/reference/generated/numpy.linalg.norm.html) [np.sum](https://docs.scipy.org/doc/numpy-1.15.0/reference/generated/numpy.sum.html), [np.argmin](https://docs.scipy.org/doc/numpy-1.15.0/reference/generated/numpy.argmin.html), [np.average](https://docs.scipy.org/doc/numpy-1.15.0/reference/generated/numpy.average.html)"
      ]
    },
    {
      "metadata": {
        "id": "1rOMHJXEZYln",
        "colab_type": "code",
        "colab": {}
      },
      "cell_type": "code",
      "source": [
        "from numpy import linalg as LA\n",
        "\n",
        "max_iter= 10\n",
        "\n",
        "\n",
        "dist= ...\n",
        "previous_loss= ...\n",
        "\n",
        "\n",
        "for k in range(0,max_iter):\n",
        "  ...\n",
        "  \n",
        "    \n",
        "\n"
      ],
      "execution_count": 0,
      "outputs": []
    },
    {
      "metadata": {
        "id": "e16W2EArMTPn",
        "colab_type": "text"
      },
      "cell_type": "markdown",
      "source": [
        "Compute quantized version of the image, i.e. replace each pixel with the prototype of the cluster it belongs to.\n",
        "\n",
        "Display original and quantized images; Run with various number of clusters.\n",
        "\n",
        "Info: [np.copy](https://docs.scipy.org/doc/numpy-1.15.0/reference/generated/numpy.copy.html), [np.reshape](https://docs.scipy.org/doc/numpy-1.15.0/reference/generated/numpy.reshape.html), [plt.show](https://matplotlib.org/api/_as_gen/matplotlib.pyplot.imshow.html)"
      ]
    },
    {
      "metadata": {
        "id": "T91RQcr6R4VE",
        "colab_type": "code",
        "colab": {}
      },
      "cell_type": "code",
      "source": [
        "# compute quantized version of the image\n",
        "...\n",
        "\n",
        "\n",
        "# Display all results, alongside original image\n",
        "plt.figure(1)\n",
        "plt.clf()\n",
        "plt.axis('off')\n",
        "plt.title('Original image (96,615 colors)')\n",
        "plt.imshow(china)\n",
        "\n",
        "# Quantized image by k-means\n",
        "plt.figure(2)\n",
        "plt.clf()\n",
        "plt.axis('off')\n",
        "plt.title('Quantized image (N colors)')\n",
        "plt.imshow(china_qtzd)\n",
        "\n"
      ],
      "execution_count": 0,
      "outputs": []
    }
  ]
}